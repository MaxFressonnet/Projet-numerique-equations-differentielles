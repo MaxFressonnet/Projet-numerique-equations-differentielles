{
 "metadata": {
  "language_info": {
   "codemirror_mode": {
    "name": "ipython",
    "version": 3
   },
   "file_extension": ".py",
   "mimetype": "text/x-python",
   "name": "python",
   "nbconvert_exporter": "python",
   "pygments_lexer": "ipython3",
   "version": 3
  },
  "orig_nbformat": 2
 },
 "nbformat": 4,
 "nbformat_minor": 2,
 "cells": [
  {
   "source": [
    "# Projet numérique"
   ],
   "cell_type": "markdown",
   "metadata": {}
  },
  {
   "source": [
    "Les équations de Lotka-Volterra, ou “modèle proie-prédateur”, sont couramment\n",
    "utilisées pour décrire la dynamique de systèmes biologiques dans lesquels un\n",
    "prédateur et sa proie interagissent dans un milieu commun. Elles ont été proposées\n",
    "indépendamment par A. J. Lotka en 1925 et V. Volterra en 1926 et s’écrivent de\n",
    "la manière suivante :\n",
    "$$ \\dot{x_1} = x_1 (\\alpha - \\beta x_2) $$\n",
    "$$ \\dot{x_2} = -x_2(\\gamma - \\delta x_1) $$\n",
    "\n",
    "où $x_1$ et $x_2$ désignent le nombre (positif) de proies et de prédateurs respectivement\n",
    "et $\\alpha$, $\\beta$, $\\gamma$ et $\\delta$ sont des paramètres strictement positifs."
   ],
   "cell_type": "code",
   "metadata": {},
   "execution_count": null,
   "outputs": []
  },
  {
   "source": [
    "1. Donner une interprétation physique à chaque terme de la dynamique.\n",
    "Montrer qu’il existe deux points d’équilibre $(0, 0)$ et $\\overline{x} \\in \\mathbb{R}_{>0} \\times \\mathbb{R}_{>0}$. Que\n",
    "peut-on dire de leur stabilité à ce stade ?"
   ],
   "cell_type": "code",
   "metadata": {},
   "execution_count": null,
   "outputs": []
  },
  {
   "source": [
    "** Réponse **\n",
    "\n",
    "Dans l'expression de $\\dot{x_1}$, le coefficient $\\alpha > 0$ devant $x_1$ témoigne du fait que plus il y a de proies, plus il y a d'accouplements, et donc de naissances. Quant au terme $-\\beta x_1 x_2$, il témoigne du fait que plus il y a de prédateurs, plus le nombre de proies va diminuer, et ce proportionnelement au nombre de proies et de prédateurs.\n",
    "\n",
    "Dans l'expression de $\\dot{x_2}$, le coefficient $-\\gamma$ devant $x_2$ vient du fait que plus il y a de prédateurs, plus la concurrence pour l'accès à la nourriture est rude. Ainsi, la survie est plus difficile et le nombre prédateur diminue. Le terme $\\delta x_1 x_2$ correspond au fait que plus il y a de proies, mieux les prédateurs survivent, et donc se multiplient.\n",
    "\n",
    "$(0,0)$ et $(\\frac{\\gamma}{\\delta},\\frac{\\alpha}{\\beta}) \\in \\mathbb{R}_{>0} \\times \\mathbb{R}_{>0}$ sont des points d'équilibre du système. Etudions leur stabilité à l'aide de la jacobienne de la fonction $f$ qui caratérise le système.\n",
    "\n",
    "$$\n",
    "        f(x_1, x_2) = \n",
    "        \\begin{pmatrix}\n",
    "        \\alpha x_1 - \\beta x_1 x_2 \\\\\n",
    "        -\\gamma x_2 + \\delta x_1 x_2\n",
    "        \\end{pmatrix}\n",
    "$$\n",
    "$$\n",
    "        J_f(x_1, x_2) = \n",
    "        \\begin{pmatrix}\n",
    "        \\alpha - \\beta x_2 & \\delta x_2 \\\\\n",
    "        -\\beta x_1 & -\\gamma + \\delta x_1 \n",
    "        \\end{pmatrix}\n",
    "$$\n",
    "\n",
    "$J_f (0,0)$ admet $\\alpha > 0$ et $-\\gamma$ comme valeurs propres, donc $(0,0)$ est un point d'équilibre instable.\n",
    "\n",
    "$J_f (\\frac{\\gamma}{\\delta},\\frac{\\alpha}{\\beta})$ admet $i \\sqrt{\\gamma \\alpha}$ et $-i \\sqrt{\\gamma \\alpha}$ comme valeurs propres. Comme leur partie réelle est nulle, le critère de Hurwitz est insuffisant pour déterminer la stabilité de ce point d'équilibre."
   ],
   "cell_type": "markdown",
   "metadata": {}
  },
  {
   "source": [
    "2. A l’aide des fonctions meshgrid et quiver, visualiser graphiquement le\n",
    "champ de vecteurs. Intuiter le comportement des solutions. On pourra\n",
    "aussi utiliser streamplot pour visualiser le portrait de phase."
   ],
   "cell_type": "markdown",
   "metadata": {}
  },
  {
   "cell_type": "code",
   "execution_count": null,
   "metadata": {},
   "outputs": [],
   "source": []
  },
  {
   "source": [
    "3. Par le théorème de Cauchy-Lipschitz, démontrer que toute solution initialisée\n",
    "dans $\\mathbb{R}_{>0} \\times \\mathbb{R}_{>0}$ reste dans $\\mathbb{R}_{>0} \\times \\mathbb{R}_{>0}$ sur son ensemble de définition"
   ],
   "cell_type": "markdown",
   "metadata": {}
  },
  {
   "source": [
    "** Réponse **\n",
    "\n",
    "Raisonnons par l'absurde avec une solution $x$ telle que $x(t_0) \\in \\mathbb{R}_{>0} \\times \\mathbb{R}_{>0}$ mais dont une des composantes s'nnule en $t_1$. On suppose par exemple que cette composante est $x_1$.\n",
    "\n",
    "$x_1(t_0) \\neq 0$ mais $x_1(t_1) = 0$. Or $f_{x2} (x) = x(\\alpha - \\beta x_2)$ est de classe $C^1$, donc le théorème de Cauchy-Lipschtz assure que $x_1$ est la seule fonction qui vérifie $\\dot{x} = f(x)$ et $x(t_1) = 0$. Or, la fonction nulle vérifie aussi ces critères, donc $x_1 = 0$, ce qui entre en contradiction avec le fait que $x(t_1) \\neq 0$.\n",
    "\n",
    "Le raisonnement serait le même si la composante étudiée était $x_2$.\n",
    "\n",
    "Donc toute solution initialisée\n",
    "dans $\\mathbb{R}_{>0} \\times \\mathbb{R}_{>0}$ reste dans $\\mathbb{R}_{>0} \\times \\mathbb{R}_{>0}$ sur son ensemble de définition"
   ],
   "cell_type": "markdown",
   "metadata": {}
  },
  {
   "source": [
    "4. On considère la fonction\n",
    "$$ H(x_1, x_2) = \\delta x_1 - \\gamma \\ln{x_1} + \\beta x_2 - \\alpha \\ln{x_2} $$\n",
    "définie sur $\\mathbb{R}_{>0} \\times \\mathbb{R}_{>0}$. Calculer la dérivée de $H$ le long des solutions\n",
    "initialisées dans $\\mathbb{R}_{>0} \\times \\mathbb{R}_{>0}$. En déduire que toute solution maximale\n",
    "initialisée dans $\\mathbb{R}_{>0} \\times \\mathbb{R}_{>0}$ est définie sur $\\mathbb{R}$ et que $\\overline{x}$ est stable."
   ],
   "cell_type": "markdown",
   "metadata": {}
  }
 ]
}