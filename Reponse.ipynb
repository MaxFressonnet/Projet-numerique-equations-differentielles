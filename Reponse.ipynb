{
 "cells": [
  {
   "cell_type": "markdown",
   "metadata": {},
   "source": [
    "# Projet numérique"
   ]
  },
  {
   "cell_type": "code",
   "execution_count": null,
   "metadata": {},
   "outputs": [],
   "source": [
    "import numpy as np\n",
    "import matplotlib.pyplot as plt"
   ]
  },
  {
   "cell_type": "markdown",
   "metadata": {},
   "source": [
    "Les équations de Lotka-Volterra, ou “modèle proie-prédateur”, sont couramment\n",
    "utilisées pour décrire la dynamique de systèmes biologiques dans lesquels un\n",
    "prédateur et sa proie interagissent dans un milieu commun. Elles ont été proposées\n",
    "indépendamment par A. J. Lotka en 1925 et V. Volterra en 1926 et s’écrivent de\n",
    "la manière suivante :\n",
    "$$ \\dot{x_1} = x_1 (\\alpha - \\beta x_2) $$\n",
    "$$ \\dot{x_2} = -x_2(\\gamma - \\delta x_1) $$\n",
    "\n",
    "où $x_1$ et $x_2$ désignent le nombre (positif) de proies et de prédateurs respectivement\n",
    "et $\\alpha$, $\\beta$, $\\gamma$ et $\\delta$ sont des paramètres strictement positifs."
   ]
  },
  {
   "cell_type": "markdown",
   "metadata": {},
   "source": [
    "1. Donner une interprétation physique à chaque terme de la dynamique.\n",
    "Montrer qu’il existe deux points d’équilibre $(0, 0)$ et $\\overline{x} \\in \\mathbb{R}_{>0} \\times \\mathbb{R}_{>0}$. Que\n",
    "peut-on dire de leur stabilité à ce stade ?"
   ]
  },
  {
   "cell_type": "markdown",
   "metadata": {
    "tags": []
   },
   "source": [
    "**Réponse**\n",
    "\n",
    "Dans l'expression de $\\dot{x_1}$, le coefficient $\\alpha > 0$ devant $x_1$ témoigne du fait que plus il y a de proies, plus il y a d'accouplements, et donc de naissances. Quant au terme $-\\beta x_1 x_2$, il témoigne du fait que plus il y a de prédateurs, plus le nombre de proies va diminuer, et ce proportionnelement au nombre de proies et de prédateurs.\n",
    "\n",
    "Dans l'expression de $\\dot{x_2}$, le coefficient $-\\gamma$ devant $x_2$ vient du fait que plus il y a de prédateurs, plus la concurrence pour l'accès à la nourriture est rude. Ainsi, la survie est plus difficile et le nombre prédateur diminue. Le terme $\\delta x_1 x_2$ correspond au fait que plus il y a de proies, mieux les prédateurs survivent, et donc se multiplient.\n",
    "\n",
    "Notons $f$ la fonction de $\\mathbb{R} \\times \\mathbb{R}$ dans $\\mathbb{R} \\times \\mathbb{R}$, telle que\n",
    "$$\n",
    "        f(x_1, x_2) = \n",
    "        \\begin{pmatrix}\n",
    "        \\alpha x_1 - \\beta x_1 x_2 \\\\\n",
    "        -\\gamma x_2 + \\delta x_1 x_2\n",
    "        \\end{pmatrix}\n",
    "$$\n",
    "\n",
    "Les points d'équilibres cherchés sont les points $(x_1,x_2)\\in\\mathbb{R}_{>0} \\times \\mathbb{R}_{>0}$ tels que $f(x_1, x_2) = 0$. On obtient $(0,0)$ et $\\overline{x}=(\\frac{\\gamma}{\\delta},\\frac{\\alpha}{\\beta})$. Etudions leur stabilité à l'aide de la jacobienne de la fonction $f$ qui caratérise le système.\n",
    "\n",
    "$$\n",
    "        J_f(x_1, x_2) = \n",
    "        \\begin{pmatrix}\n",
    "        \\alpha - \\beta x_2 & \\delta x_2 \\\\\n",
    "        -\\beta x_1 & -\\gamma + \\delta x_1 \n",
    "        \\end{pmatrix}\n",
    "$$\n",
    "\n",
    "$J_f (0,0)$ admet $\\alpha > 0$ (et $-\\gamma$) comme valeurs propres, donc $(0,0)$ est un point d'équilibre instable.\n",
    "\n",
    "$J_f (\\frac{\\gamma}{\\delta},\\frac{\\alpha}{\\beta})$ admet $i \\sqrt{\\gamma \\alpha}$ et $-i \\sqrt{\\gamma \\alpha}$ comme valeurs propres. Comme leur partie réelle est nulle, le critère de Hurwitz est insuffisant pour déterminer la stabilité de ce point d'équilibre."
   ]
  },
  {
   "cell_type": "markdown",
   "metadata": {},
   "source": [
    "2. A l’aide des fonctions meshgrid et quiver, visualiser graphiquement le\n",
    "champ de vecteurs. Intuiter le comportement des solutions. On pourra\n",
    "aussi utiliser streamplot pour visualiser le portrait de phase."
   ]
  },
  {
   "cell_type": "code",
   "execution_count": null,
   "metadata": {},
   "outputs": [],
   "source": [
    "a = 1 #alpha\n",
    "b = 0.5 #beta\n",
    "c = 0.5 #gamma\n",
    "d = 0.5 #delta\n",
    "xb = (c/d,a/b) #x barre"
   ]
  },
  {
   "cell_type": "code",
   "execution_count": null,
   "metadata": {},
   "outputs": [],
   "source": [
    "def f(x1,x2) :\n",
    "    return np.array([x1*(a-b*x2),-x2*(c-d*x1)])"
   ]
  },
  {
   "cell_type": "code",
   "execution_count": null,
   "metadata": {
    "scrolled": true,
    "tags": []
   },
   "outputs": [],
   "source": [
    "fig = plt.figure()\n",
    "\n",
    "ax1 = plt.subplot(1,2,1)\n",
    "ax1.set_title(\"Champ de vecteurs\")\n",
    "ax1.set_xlabel('$x_1$')\n",
    "ax1.set_ylabel('$x_2$')\n",
    "x = np.linspace(0,10,10)\n",
    "y = np.linspace(0,10,10)\n",
    "X, Y = np.meshgrid(x, y)\n",
    "U, V = f(X,Y)\n",
    "ax1.quiver(X,Y,U,V)\n",
    "\n",
    "ax2 = plt.subplot(1,2,2)\n",
    "ax2.set_title(\"Portrait de phase\")\n",
    "ax2.set_xlabel('$x_1$')\n",
    "x = np.linspace(0,10,100)\n",
    "y = np.linspace(0,10,100)\n",
    "X, Y = np.meshgrid(x, y)\n",
    "U, V = f(X,Y)\n",
    "ax2.streamplot(X, Y, U, V, density=0.6)\n",
    "\n",
    "plt.show()"
   ]
  },
  {
   "cell_type": "markdown",
   "metadata": {
    "tags": []
   },
   "source": [
    "3. Par le théorème de Cauchy-Lipschitz, démontrer que toute solution initialisée\n",
    "dans $\\mathbb{R}_{>0} \\times \\mathbb{R}_{>0}$ reste dans $\\mathbb{R}_{>0} \\times \\mathbb{R}_{>0}$ sur son ensemble de définition"
   ]
  },
  {
   "cell_type": "markdown",
   "metadata": {},
   "source": [
    "**Réponse**\n",
    "\n",
    "Raisonnons par l'absurde avec une solution $x$ telle que $x(t_0) \\in \\mathbb{R}_{>0} \\times \\mathbb{R}_{>0}$ mais dont une des composantes s'annule en $t_1$. On suppose par exemple que cette composante est $x_1$.\n",
    "\n",
    "$x_1(t_0) \\neq 0$ mais $x_1(t_1) = 0$. Or $f_{x_1} (x) = x_1(\\alpha - \\beta x_2)$ est de classe $C^1$, donc le théorème de Cauchy-Lipschtz assure que $x_1$ est la seule fonction qui vérifie $\\dot{x} = f(x)$ et $x(t_1) = 0$. Or, la fonction nulle vérifie aussi ces critères, donc $x_1 = 0$, ce qui entre en contradiction avec le fait que $x(t_1) \\neq 0$.\n",
    "\n",
    "Le raisonnement serait le même si la composante étudiée était $x_2$.\n",
    "\n",
    "Donc toute solution initialisée\n",
    "dans $\\mathbb{R}_{>0} \\times \\mathbb{R}_{>0}$ reste dans $\\mathbb{R}_{>0} \\times \\mathbb{R}_{>0}$ sur son ensemble de définition"
   ]
  },
  {
   "cell_type": "markdown",
   "metadata": {},
   "source": [
    "4. On considère la fonction\n",
    "$$ H(x_1, x_2) = \\delta x_1 - \\gamma \\ln{x_1} + \\beta x_2 - \\alpha \\ln{x_2} $$\n",
    "définie sur $\\mathbb{R}_{>0} \\times \\mathbb{R}_{>0}$. Calculer la dérivée de $H$ le long des solutions\n",
    "initialisées dans $\\mathbb{R}_{>0} \\times \\mathbb{R}_{>0}$. En déduire que toute solution maximale\n",
    "initialisée dans $\\mathbb{R}_{>0} \\times \\mathbb{R}_{>0}$ est définie sur $\\mathbb{R}$ et que $\\overline{x}$ est stable."
   ]
  },
  {
   "cell_type": "markdown",
   "metadata": {},
   "source": [
    "$H'(x_1,x_2) = \\dot{x_1}\\frac{\\delta x_1 - \\gamma}{x_1} + \\dot{x_2}\\frac{\\beta x_2 - \\alpha}{x_2} = (\\alpha - \\beta x_2)(\\delta x_1 - \\gamma) - (\\gamma - \\delta x_1)(\\beta x_2 - \\alpha) = 0$\n",
    "\n",
    "Donc $H$ est constante le long des solutions initialisées dans $\\mathbb{R}_{>0} \\times \\mathbb{R}_{>0}$. Or, si $x$ tend vers $(0,0)$ ou $\\|x\\|$ tend vers $+\\infty$, alors $H$ tend vers l'infini. Donc une solution $x$ au problème ne peut pas tendre vers un élément de la frontière de  $\\mathbb{R}_{>0} \\times \\mathbb{R}_{>0}$ ni avoir une norme qui tend vers $+\\infty$. Donc le théorème du domaine maximal d'existence assure que l'ouvert sur lequel la solution maximale $x$ est définie n'est ni majoré ni minoré.\n",
    "\n",
    "Donc toute solution maximale\n",
    "initialisée dans $\\mathbb{R}_{>0} \\times \\mathbb{R}_{>0}$ est définie sur $\\mathbb{R}$."
   ]
  },
  {
   "cell_type": "markdown",
   "metadata": {
    "tags": []
   },
   "source": [
    "**Réponse**\n",
    "\n",
    "Notons $X = \\mathbb{R}_{>0} \\times \\mathbb{R}_{>0}$\n",
    "- On obtient, pour $(x_1,x_2)\\in X$,\n",
    "$\n",
    "\\nabla H(x_1,x_2)=\n",
    "        \\begin{pmatrix}\n",
    "        \\delta - \\frac{\\gamma}{x_1} \\\\\n",
    "        \\beta - \\frac{\\alpha}{x_2}\n",
    "        \\end{pmatrix}\n",
    "$  \n",
    "Soit $t \\mapsto x(t)$ une solution initialisée dans $X$ et définie sur $I$. On a, pour $t \\in I$, $H'(x(t)) = \\langle \\nabla H(x(t)) , f(x(t)) \\rangle = 0$ après calculs.\n",
    "\n",
    "\n",
    "- Soit $x \\in X$,\n",
    "$$\\boxed{\n",
    "H(x) - H(\\overline{x}) = \\gamma (\\frac{\\delta x_1}{\\gamma} - (1 + ln(\\frac{\\delta x_1}{\\gamma})) + \\alpha (\\frac{\\beta x_2}{\\alpha} - (1 + ln(\\frac{\\beta x_1}{\\alpha})) \\hspace{1cm} (1)\n",
    "}$$\n",
    "En identifiant la fonction $y \\longrightarrow y - (1 + ln(y))$, on remarque que :\n",
    "$$ H(x) \\xrightarrow[x \\rightarrow \\partial X]{} +\\infty $$\n",
    "\n",
    "\n",
    "- Soit $x$ solution maximale de l'équation différentielle, initialisée dans $X$, et définie sur $]a,b[$,\n",
    "Par l'absurde, si l'on suppose par exemple b fini, on a par théorème  $x(t) \\xrightarrow[t \\rightarrow b]{} \\partial X$.  \n",
    "D'après le point précédent, on en déduit que $H(x(t)) \\xrightarrow[t \\rightarrow b]{} +\\infty$. Or d'après le premier point, H(x(t)) est constant : c'est impossible. __Donc les solutions maximales sont définies sur $\\mathbb{R}$.__\n",
    "\n",
    "\n",
    "- On considère la fonction potentiel $V(x) := H(x) - H(\\overline{x})$.  \n",
    "On a $V(\\overline{x}) = 0$, et, pour $x\\in X\\setminus\\{\\overline{x}\\}$, $V(x) > 0$ d'après l'expression (1).  \n",
    "De plus pour toute solution x, $V'(x(t)) = H'(x(t)) \\leqslant 0$.  \n",
    "__Donc, d'après le théorème de Lyapunov, $\\overline{x}$ est stable.__"
   ]
  },
  {
   "cell_type": "markdown",
   "metadata": {
    "tags": []
   },
   "source": [
    "5. Représenter les courbes de niveau de $H$. Qu’en conclue-t-on sur le comportement\n",
    "des solutions ?"
   ]
  },
  {
   "cell_type": "code",
   "execution_count": null,
   "metadata": {},
   "outputs": [],
   "source": [
    "def H(x1,x2) :\n",
    "    return d*x1 - c*np.log(x1) + b*x2 - a*np.log(x2)\n",
    "\n",
    "x = np.linspace(0.001,10,100)\n",
    "y = np.linspace(0.001,10,100)\n",
    "X, Y = np.meshgrid(x, y)\n",
    "Z = H(X,Y)\n",
    "plt.title(\"Lignes de niveau de $H$\")\n",
    "plt.xlabel(\"$x_1$\")\n",
    "plt.ylabel(\"$x_2$\")\n",
    "C = plt.contour(X, Y, Z, 30)\n",
    "plt.clabel(C, inline=1, fontsize=8)\n",
    "plt.scatter([c/d],[a/b])\n",
    "plt.text(c/d+0.1, a/b, \"$\\overline{x}$\", fontsize=20)\n",
    "plt.show()"
   ]
  },
  {
   "cell_type": "markdown",
   "metadata": {
    "tags": []
   },
   "source": [
    "On souhaite maintenant simuler numériquement les trajectoires."
   ]
  },
  {
   "cell_type": "markdown",
   "metadata": {
    "tags": []
   },
   "source": [
    "6. Coder une fonction du type\n",
    "```python\n",
    "def solve_euler_explicit(f, x0, dt, t0, tf):\n",
    "    ...\n",
    "    return t, x\n",
    "```\n",
    "prenant en entrée une fonction $f : \\mathbb{R}^{n} \\times \\mathbb{R}^{n} \\longrightarrow \\mathbb{R}^{n}$ quelconque, une condition\n",
    "initiale $x0$, un pas de temps $dt$, les temps initiaux et finaux, et renvoyant le vecteur des temps $t^j$ et de la solution $x^j$ du schéma d’Euler explicite appliqué à $\\dot{x} = f(t, x)$. La tester sur une équation différentielle aux solutions exactes connues. Vérifier la convergence du schéma lorsque $dt$ tend vers 0. Comment visualiser graphiquement l’ordre de convergence ?"
   ]
  },
  {
   "cell_type": "markdown",
   "metadata": {},
   "source": [
    "7. Utiliser le schéma d’Euler explicite pour simuler les équations de Lotka-\n",
    "Volterra. Que constate-t-on en temps long ? Cette résolution vous semblet-\n",
    "elle fidèle à la réalité ? On pourra tracer l’évolution de la fonction $H$."
   ]
  },
  {
   "cell_type": "markdown",
   "metadata": {},
   "source": [
    "8. Coder maintenant une fonction du type\n",
    "```python\n",
    "def solve_euler_implicit(f, x0, dt, t0, tf, itermax = 100):\n",
    "...\n",
    "return t, x\n",
    "```\n",
    "donnant la solution d’un schéma d’Euler implicite appliqué à $\\dot{x} = f(t, x)$ selon la méthode présentée dans le cours. Vérifier de nouveau sa convergence sur des solutions connues. Que se passe-t-il cette fois-ci sur les équations de Lotka-Volterra ?"
   ]
  },
  {
   "cell_type": "code",
   "execution_count": null,
   "metadata": {},
   "outputs": [],
   "source": []
  }
 ],
 "metadata": {
  "kernelspec": {
   "display_name": "Python 3",
   "language": "python",
   "name": "python3"
  },
  "language_info": {
   "codemirror_mode": {
    "name": "ipython",
    "version": 3
   },
   "file_extension": ".py",
   "mimetype": "text/x-python",
   "name": "python",
   "nbconvert_exporter": "python",
   "pygments_lexer": "ipython3",
   "version": "3.8.3"
  }
 },
 "nbformat": 4,
 "nbformat_minor": 2
}
